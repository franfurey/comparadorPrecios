{
 "cells": [
  {
   "cell_type": "code",
   "execution_count": 11,
   "metadata": {},
   "outputs": [
    {
     "name": "stdout",
     "output_type": "stream",
     "text": [
      "Inicio de sesión exitoso\n"
     ]
    }
   ],
   "source": [
    "# FUREY \n",
    "# https://www.furey.com.ar/\n",
    "\n",
    "import requests\n",
    "from bs4 import BeautifulSoup\n",
    "import pandas as pd\n",
    "import re\n",
    "import time\n",
    "import credentials\n",
    "\n",
    "def scrape_furey(login_url, products_url):\n",
    "    session = requests.Session()\n",
    "\n",
    "    payload = {'email': credentials.email_furey, 'password': credentials.password_furey}\n",
    "\n",
    "    # Enviar la solicitud POST para iniciar sesión\n",
    "    response = session.post(login_url, data=payload)\n",
    "\n",
    "    # Verificar si el inicio de sesión fue exitoso\n",
    "    if response.status_code == 200:\n",
    "        print('Inicio de sesión exitoso')\n",
    "    else:\n",
    "        print('Inicio de sesión fallido')\n",
    "        exit()\n",
    "\n",
    "    # Crear un DataFrame vacío\n",
    "    df = pd.DataFrame(columns=['name', 'price', 'brand', 'codigo de barra'])\n",
    "\n",
    "    url = products_url\n",
    "\n",
    "    while True:\n",
    "        # Obtener el código HTML de la página web\n",
    "        page = session.get(url)\n",
    "\n",
    "        # Crear un objeto BeautifulSoup para analizar el código HTML\n",
    "        soup = BeautifulSoup(page.content, 'html.parser')\n",
    "\n",
    "        # Buscar todos los elementos con la clase 'product'\n",
    "        products = soup.find_all('div', class_='product-box')\n",
    "\n",
    "        # Iterar sobre cada producto\n",
    "        for product in products:\n",
    "            # Buscar el enlace del producto\n",
    "            link = product.find('a')['href']\n",
    "\n",
    "            # Acceder a la página del producto\n",
    "            product_page = session.get(link)\n",
    "            product_soup = BeautifulSoup(product_page.content, 'html.parser')\n",
    "\n",
    "            # Buscar la información deseada (marca y dimensiones)\n",
    "            # Buscar la fila de la marca\n",
    "            try:\n",
    "                brand_row = product_soup.find('td', class_='attrTitle', text='Marca')\n",
    "            # Buscar el elemento siguiente a la fila de la marca, el cual contiene el valor de la marca\n",
    "                brand = brand_row.find_next_sibling('td').text\n",
    "            except AttributeError:\n",
    "                brand = None\n",
    "\n",
    "            # Codigo de Barra    \n",
    "            try:\n",
    "                codigo_row = product_soup.find('td', class_='attrTitle', text='Código de barras:')\n",
    "            # Buscar el elemento siguiente a la fila de la marca, el cual contiene el valor de la marca\n",
    "                codigo = codigo_row.find_next_sibling('td').text\n",
    "            except AttributeError:\n",
    "                codigo = None\n",
    "\n",
    "            name = product_soup.find('h1', class_='tituloProducto').text\n",
    "            price = product.find('meta', {'itemprop': 'price'})['content']\n",
    "\n",
    "            # Agregar la información al DataFrame\n",
    "            df.loc[len(df)] = [name, price, brand, codigo]\n",
    "\n",
    "        # Construir la URL de la siguiente página\n",
    "        next_url = None\n",
    "        for a in soup.find_all('a', href=True, class_='pageResults'):\n",
    "            if a.text.strip() == '»':\n",
    "                next_url = a['href']\n",
    "                break\n",
    "        if next_url:\n",
    "            url = next_url\n",
    "            time.sleep(1)\n",
    "        else:\n",
    "            break\n",
    "\n",
    "\n",
    "    # Guardar el DataFrame en un archivo CSV\n",
    "    df.to_csv('../df/productos_furey.csv', index=False)\n",
    "    print('Archivo guardado con exito')\n",
    "    return True\n",
    "\n",
    "scrape_furey('https://www.furey.com.ar/entrar.htm','https://www.furey.com.ar/listado-productos.htm?page=1')"
   ]
  },
  {
   "cell_type": "code",
   "execution_count": null,
   "metadata": {},
   "outputs": [],
   "source": []
  }
 ],
 "metadata": {
  "kernelspec": {
   "display_name": "base",
   "language": "python",
   "name": "python3"
  },
  "language_info": {
   "codemirror_mode": {
    "name": "ipython",
    "version": 3
   },
   "file_extension": ".py",
   "mimetype": "text/x-python",
   "name": "python",
   "nbconvert_exporter": "python",
   "pygments_lexer": "ipython3",
   "version": "3.9.13"
  },
  "orig_nbformat": 4,
  "vscode": {
   "interpreter": {
    "hash": "cae57366aee67ad5855b41ecef490a2722475cad7c070f5b3438e7db82e43a4a"
   }
  }
 },
 "nbformat": 4,
 "nbformat_minor": 2
}
