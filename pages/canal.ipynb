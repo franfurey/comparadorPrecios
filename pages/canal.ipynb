{
 "cells": [
  {
   "cell_type": "code",
   "execution_count": 2,
   "metadata": {},
   "outputs": [
    {
     "name": "stdout",
     "output_type": "stream",
     "text": [
      "Inicio de sesión exitoso\n",
      "Archivo guardado con exito\n"
     ]
    },
    {
     "data": {
      "text/plain": [
       "True"
      ]
     },
     "execution_count": 2,
     "metadata": {},
     "output_type": "execute_result"
    }
   ],
   "source": [
    "# CANAL\n",
    "\n",
    "import requests\n",
    "from bs4 import BeautifulSoup\n",
    "import pandas as pd\n",
    "import credentials\n",
    "\n",
    "def scrape_canal(login_url, extract_url):\n",
    "    session = requests.Session()\n",
    "\n",
    "    payload = {'email': credentials.email_canal, 'password': credentials.password_canal}\n",
    "\n",
    "    response = session.post(login_url, data=payload)\n",
    "\n",
    "    if response.status_code == 200:\n",
    "        print('Inicio de sesión exitoso')\n",
    "    else:\n",
    "        print('Inicio de sesión fallido')\n",
    "\n",
    "    df = pd.DataFrame(columns=['name', 'price'])\n",
    "\n",
    "    page = 1\n",
    "    while True:\n",
    "        # Construir la URL de la siguiente página\n",
    "        url = extract_url + '?mpage=1&page={}'.format(page)\n",
    "        # Realizar una nueva solicitud\n",
    "        page_response = session.get(url)\n",
    "        soup = BeautifulSoup(page_response.content, 'html.parser')\n",
    "        products = soup.find_all('div', class_='js-item-product item')\n",
    "        if not products:\n",
    "            break\n",
    "        for product in products:\n",
    "            # Recorrer cada producto y extraer su nombre y precio\n",
    "            name = product.find('a', class_='item-name').text\n",
    "            price = product.find('span', class_='price').text\n",
    "            # Agregar una fila al DataFrame con el nombre y precio del producto\n",
    "            df.loc[len(df)] = [name, price]\n",
    "        page += 1\n",
    "\n",
    "    df['price'] = df['price'].replace('\\n', '', regex=True)\n",
    "    df['price'] = df['price'].replace(' ', '', regex=True)\n",
    "\n",
    "    df.to_csv('../df/productos_canal.csv', index=False)\n",
    "    print('Archivo guardado con exito')\n",
    "    return True\n",
    "\n",
    "scrape_canal('https://soycanal.com.ar/account/login/', 'https://soycanal.com.ar/productos/?mpage=1')\n",
    "\n"
   ]
  }
 ],
 "metadata": {
  "kernelspec": {
   "display_name": "base",
   "language": "python",
   "name": "python3"
  },
  "language_info": {
   "codemirror_mode": {
    "name": "ipython",
    "version": 3
   },
   "file_extension": ".py",
   "mimetype": "text/x-python",
   "name": "python",
   "nbconvert_exporter": "python",
   "pygments_lexer": "ipython3",
   "version": "3.9.13"
  },
  "orig_nbformat": 4,
  "vscode": {
   "interpreter": {
    "hash": "cae57366aee67ad5855b41ecef490a2722475cad7c070f5b3438e7db82e43a4a"
   }
  }
 },
 "nbformat": 4,
 "nbformat_minor": 2
}
